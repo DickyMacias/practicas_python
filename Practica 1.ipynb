{
 "cells": [
  {
   "cell_type": "markdown",
   "metadata": {
    "pycharm": {
     "name": "#%% md\n"
    }
   },
   "source": [
    "# Ángulos de un triangulo\n",
    "## Usando la ley de cosenos se ingresa un valor para cada lado del triangulo"
   ]
  },
  {
   "cell_type": "markdown",
   "source": [
    "Se importa desestructurados los metodos de la librería math para usarlos con la ley de cosenos."
   ],
   "metadata": {
    "collapsed": false
   }
  },
  {
   "cell_type": "code",
   "execution_count": 1,
   "outputs": [],
   "source": [
    "from math import acos, degrees\n"
   ],
   "metadata": {
    "collapsed": false,
    "pycharm": {
     "name": "#%%\n"
    }
   }
  },
  {
   "cell_type": "markdown",
   "source": [
    "Se guarda una cadena de texto con los valores interpolados y salto de linea."
   ],
   "metadata": {
    "collapsed": false
   }
  },
  {
   "cell_type": "code",
   "execution_count": 2,
   "outputs": [],
   "source": [
    "valores_lados = 'Los valores escogidos fueron: \\nA = {lado_a} \\nB = {lado_b} \\nC = {lado_c}\\n'"
   ],
   "metadata": {
    "collapsed": false,
    "pycharm": {
     "name": "#%%\n"
    }
   }
  },
  {
   "cell_type": "markdown",
   "source": [
    "Se reciben los valores a variables flotantes."
   ],
   "metadata": {
    "collapsed": false,
    "pycharm": {
     "name": "#%% md\n"
    }
   }
  },
  {
   "cell_type": "code",
   "execution_count": 3,
   "outputs": [],
   "source": [
    "lado_a = float(input('Ingresa un valor númerico para el lado A: '))\n",
    "lado_b = float(input('Ingresa un valor númerico para el lado B: '))\n",
    "lado_c = float(input('Ingresa un valor númerico para el lado C: '))"
   ],
   "metadata": {
    "collapsed": false,
    "pycharm": {
     "name": "#%%\n"
    }
   }
  },
  {
   "cell_type": "markdown",
   "source": [
    "Se muestran los valores usando la interpolación y casteados a string."
   ],
   "metadata": {
    "collapsed": false
   }
  },
  {
   "cell_type": "code",
   "execution_count": 4,
   "outputs": [
    {
     "name": "stdout",
     "output_type": "stream",
     "text": [
      "Los valores escogidos fueron: \n",
      "A = 1.0 \n",
      "B = 2.0 \n",
      "C = 3.0\n",
      "\n"
     ]
    }
   ],
   "source": [
    "print(valores_lados.format(lado_a = str(lado_a), lado_b = str(lado_b), lado_c = str(lado_c)))"
   ],
   "metadata": {
    "collapsed": false,
    "pycharm": {
     "name": "#%%\n"
    }
   }
  },
  {
   "cell_type": "markdown",
   "source": [
    "Se realizan las operaciones con los métodos importados."
   ],
   "metadata": {
    "collapsed": false,
    "pycharm": {
     "name": "#%% md\n"
    }
   }
  },
  {
   "cell_type": "code",
   "execution_count": 5,
   "outputs": [],
   "source": [
    "angulo_a = degrees(acos((lado_b**2 + lado_c**2 - lado_a**2)/(2 * lado_b * lado_c)))\n",
    "angulo_b = degrees(acos((lado_c**2 + lado_a**2 - lado_b**2)/(2 * lado_c * lado_a)))\n",
    "angulo_c = degrees(acos((lado_a**2 + lado_b**2 - lado_c**2)/(2 * lado_a * lado_b)))"
   ],
   "metadata": {
    "collapsed": false,
    "pycharm": {
     "name": "#%%\n"
    }
   }
  },
  {
   "cell_type": "code",
   "execution_count": 6,
   "outputs": [],
   "source": [
    "valores_angulos = 'Los valores de los ángulos son: \\nA = {angulo_a} \\nB = {angulo_b} \\nC = {angulo_c}\\n'"
   ],
   "metadata": {
    "collapsed": false,
    "pycharm": {
     "name": "#%%\n"
    }
   }
  },
  {
   "cell_type": "markdown",
   "source": [
    "Se usa el redondeo ya que el valor es flotante y no se puede acortar con slice."
   ],
   "metadata": {
    "collapsed": false
   }
  },
  {
   "cell_type": "code",
   "execution_count": 7,
   "outputs": [
    {
     "name": "stdout",
     "output_type": "stream",
     "text": [
      "Los valores de los ángulos son: \n",
      "A = 0.0 \n",
      "B = 0.0 \n",
      "C = 180.0\n",
      "\n"
     ]
    }
   ],
   "source": [
    "print(valores_angulos.format(angulo_c = str(round(angulo_c, 2)), angulo_a = str(round(angulo_a, 2)), angulo_b = str(round(angulo_b, 2))))"
   ],
   "metadata": {
    "collapsed": false,
    "pycharm": {
     "name": "#%%\n"
    }
   }
  },
  {
   "cell_type": "markdown",
   "source": [
    "Se usa la concatenación de valores."
   ],
   "metadata": {
    "collapsed": false,
    "pycharm": {
     "name": "#%% md\n"
    }
   }
  },
  {
   "cell_type": "code",
   "source": [
    "print('La suma de los ángulos es igual a ' + str(angulo_a + angulo_b + angulo_c))\n"
   ],
   "metadata": {
    "collapsed": false,
    "pycharm": {
     "name": "#%%\n"
    }
   },
   "execution_count": 8,
   "outputs": [
    {
     "name": "stdout",
     "output_type": "stream",
     "text": [
      "La suma de los ángulos es igual a 180.0\n"
     ]
    }
   ]
  }
 ],
 "metadata": {
  "anaconda-cloud": {},
  "kernelspec": {
   "display_name": "Python 3",
   "language": "python",
   "name": "python3"
  },
  "language_info": {
   "codemirror_mode": {
    "name": "ipython",
    "version": 3
   },
   "file_extension": ".py",
   "mimetype": "text/x-python",
   "name": "python",
   "nbconvert_exporter": "python",
   "pygments_lexer": "ipython3",
   "version": "3.6.5"
  }
 },
 "nbformat": 4,
 "nbformat_minor": 1
}