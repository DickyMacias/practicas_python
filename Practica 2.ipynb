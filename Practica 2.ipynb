{
 "cells": [
  {
   "cell_type": "markdown",
   "metadata": {},
   "source": [
    "# Ángulos de un triangulo\n",
    "## Usando la ley de cosenos se ingresa un valor para cada lado del triangulo\n",
    "## Se agregan iteraciones, numeros random y funciones"
   ]
  },
  {
   "cell_type": "markdown",
   "metadata": {},
   "source": [
    "Se importa desestructurados los metodos de la librería math para usarlos con la ley de cosenos."
   ]
  },
  {
   "cell_type": "code",
   "execution_count": 468,
   "metadata": {
    "pycharm": {
     "name": "#%%\n"
    }
   },
   "outputs": [],
   "source": [
    "from math import acos, degrees, sqrt\n",
    "import random\n"
   ]
  },
  {
   "cell_type": "markdown",
   "metadata": {},
   "source": [
    "Se guarda una cadena de texto con los valores interpolados y salto de linea."
   ]
  },
  {
   "cell_type": "code",
   "execution_count": 469,
   "metadata": {
    "pycharm": {
     "name": "#%%\n"
    }
   },
   "outputs": [],
   "source": [
    "valores_lados = 'Los valores escogidos fueron: \\nA = {lado_a} \\nB = {lado_b} \\nC = {lado_c}\\n'"
   ]
  },
  {
   "cell_type": "markdown",
   "metadata": {},
   "source": [
    "Se generan los valores de forma aleatoria en variables flotantes."
   ]
  },
  {
   "cell_type": "code",
   "execution_count": 470,
   "metadata": {
    "pycharm": {
     "name": "#%%\n"
    }
   },
   "outputs": [],
   "source": [
    "lado_a = round(float(random.randint(1,100)),2)\n",
    "lado_b = round(float(random.randint(1,100)),2)\n",
    "lado_c = round(float(sqrt((lado_a**2 + lado_b**2))),2)"
   ]
  },
  {
   "cell_type": "markdown",
   "metadata": {},
   "source": [
    "Se muestran los valores usando la interpolación y casteados a string."
   ]
  },
  {
   "cell_type": "code",
   "execution_count": 471,
   "metadata": {
    "pycharm": {
     "name": "#%%\n"
    }
   },
   "outputs": [
    {
     "name": "stdout",
     "output_type": "stream",
     "text": [
      "Los valores escogidos fueron: \n",
      "A = 81.0 \n",
      "B = 11.0 \n",
      "C = 81.74\n",
      "\n"
     ]
    }
   ],
   "source": [
    "print(valores_lados.format(lado_a = str(lado_a), lado_b = str(lado_b), lado_c = str(lado_c)))"
   ]
  },
  {
   "cell_type": "markdown",
   "metadata": {},
   "source": [
    "Se realizan las operaciones con los métodos importados y se crea una funcion generica para la formula"
   ]
  },
  {
   "cell_type": "code",
   "execution_count": 472,
   "metadata": {
    "pycharm": {
     "name": "#%%\n"
    }
   },
   "outputs": [],
   "source": [
    "def calcular_angulos(value_1,value_2,value_3):\n",
    "    return degrees(acos((value_2**2 + value_3**2 - value_1**2)/(2 * value_2 * value_3)))\n",
    "\n",
    "angulo_a = calcular_angulos(value_1=lado_a, value_2=lado_b, value_3=lado_c)\n",
    "angulo_b = calcular_angulos(value_1=lado_b, value_2=lado_c, value_3=lado_a)\n",
    "angulo_c = calcular_angulos(value_1=lado_c, value_2=lado_a, value_3=lado_b)"
   ]
  },
  {
   "cell_type": "code",
   "execution_count": 473,
   "metadata": {
    "pycharm": {
     "name": "#%%\n"
    }
   },
   "outputs": [],
   "source": [
    "valores_angulos = 'Los valores de los ángulos son: \\nA = {angulo_a} \\nB = {angulo_b} \\nC = {angulo_c}\\n'"
   ]
  },
  {
   "cell_type": "markdown",
   "metadata": {},
   "source": [
    "Se usa el redondeo ya que el valor es flotante y no se puede acortar con slice."
   ]
  },
  {
   "cell_type": "code",
   "execution_count": 474,
   "metadata": {
    "pycharm": {
     "name": "#%%\n"
    }
   },
   "outputs": [
    {
     "name": "stdout",
     "output_type": "stream",
     "text": [
      "Los valores de los ángulos son: \n",
      "A = 82.28 \n",
      "B = 7.73 \n",
      "C = 89.98\n",
      "\n"
     ]
    }
   ],
   "source": [
    "print(valores_angulos.format(angulo_c = str(round(angulo_c, 2)), angulo_a = str(round(angulo_a, 2)), angulo_b = str(round(angulo_b, 2))))"
   ]
  },
  {
   "cell_type": "markdown",
   "metadata": {},
   "source": [
    "Se usa la concatenación de valores y una condicional."
   ]
  },
  {
   "cell_type": "code",
   "execution_count": 475,
   "metadata": {
    "pycharm": {
     "name": "#%%\n"
    }
   },
   "outputs": [
    {
     "name": "stdout",
     "output_type": "stream",
     "text": [
      "La suma de los ángulos es igual a 180.0\n"
     ]
    }
   ],
   "source": [
    "if (angulo_a + angulo_b + angulo_c) == 180:\n",
    "    print('La suma de los ángulos es igual a', angulo_a + angulo_b + angulo_c)\n",
    "elif (angulo_a + angulo_b + angulo_c) != 180:\n",
    "    print('La suma de los angulos es', angulo_a + angulo_b + angulo_c)"
   ]
  }
 ],
 "metadata": {
  "kernelspec": {
   "display_name": "Python 3",
   "language": "python",
   "name": "python3"
  },
  "language_info": {
   "codemirror_mode": {
    "name": "ipython",
    "version": 3
   },
   "file_extension": ".py",
   "mimetype": "text/x-python",
   "name": "python",
   "nbconvert_exporter": "python",
   "pygments_lexer": "ipython3",
   "version": "3.8.5"
  }
 },
 "nbformat": 4,
 "nbformat_minor": 1
}